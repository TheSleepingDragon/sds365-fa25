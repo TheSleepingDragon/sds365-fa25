{
 "cells": [
  {
   "cell_type": "code",
   "execution_count": null,
   "id": "8076baa2",
   "metadata": {},
   "outputs": [],
   "source": [
    "# Insert this code just above problem 1.1\n",
    "X, y = load_diabetes(return_X_y=True)\n",
    "n, p = X.shape\n",
    "print(\"Number of rows: {}\".format(n))\n",
    "print(\"Number of columns: {}\".format(p))\n",
    "# Note that X, y = load_diabetes(return_X_y=True) has already been standardized.\n",
    "# You can explore the raw data with the following code:\n",
    "X_raw, y_raw = load_diabetes(return_X_y=True, scaled=False)\n",
    "print(np.allclose(y, y_raw))\n",
    "print(np.allclose(X/np.std(X,axis=0), (X_raw - np.mean(X_raw, axis=0)) / np.std(X_raw, axis=0)))\n",
    "# The above two print statements should both return True."
   ]
  }
 ],
 "metadata": {
  "language_info": {
   "name": "python"
  }
 },
 "nbformat": 4,
 "nbformat_minor": 5
}
